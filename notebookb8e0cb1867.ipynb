{
  "metadata": {
    "kernelspec": {
      "language": "python",
      "display_name": "Python 3",
      "name": "python3"
    },
    "language_info": {
      "name": "python",
      "version": "3.11.11",
      "mimetype": "text/x-python",
      "codemirror_mode": {
        "name": "ipython",
        "version": 3
      },
      "pygments_lexer": "ipython3",
      "nbconvert_exporter": "python",
      "file_extension": ".py"
    },
    "kaggle": {
      "accelerator": "none",
      "dataSources": [
        {
          "sourceId": 91717,
          "databundleVersionId": 12184666,
          "sourceType": "competition"
        }
      ],
      "dockerImageVersionId": 31040,
      "isInternetEnabled": true,
      "language": "python",
      "sourceType": "notebook",
      "isGpuEnabled": false
    },
    "colab": {
      "name": "notebookb8e0cb1867",
      "provenance": [],
      "include_colab_link": true
    },
    "widgets": {
      "application/vnd.jupyter.widget-state+json": {
        "dff0ec368cd74c27b3820a07492efd0f": {
          "model_module": "@jupyter-widgets/controls",
          "model_name": "VBoxModel",
          "model_module_version": "1.5.0",
          "state": {
            "_dom_classes": [],
            "_model_module": "@jupyter-widgets/controls",
            "_model_module_version": "1.5.0",
            "_model_name": "VBoxModel",
            "_view_count": null,
            "_view_module": "@jupyter-widgets/controls",
            "_view_module_version": "1.5.0",
            "_view_name": "VBoxView",
            "box_style": "",
            "children": [
              "IPY_MODEL_70c776020aa24df6be7d3f6eb7909268"
            ],
            "layout": "IPY_MODEL_cf98f08a3ef54d24b28eeb568efce7db"
          }
        },
        "56495d742ade41c18d6410f935588c5a": {
          "model_module": "@jupyter-widgets/controls",
          "model_name": "HTMLModel",
          "model_module_version": "1.5.0",
          "state": {
            "_dom_classes": [],
            "_model_module": "@jupyter-widgets/controls",
            "_model_module_version": "1.5.0",
            "_model_name": "HTMLModel",
            "_view_count": null,
            "_view_module": "@jupyter-widgets/controls",
            "_view_module_version": "1.5.0",
            "_view_name": "HTMLView",
            "description": "",
            "description_tooltip": null,
            "layout": "IPY_MODEL_dd96d37bb7264353bf051a289818e3ff",
            "placeholder": "​",
            "style": "IPY_MODEL_0aa1a782b0e14ba9b9e0987ce9d33c37",
            "value": "<center> <img\nsrc=https://www.kaggle.com/static/images/site-logo.png\nalt='Kaggle'> <br> Create an API token from <a\nhref=\"https://www.kaggle.com/settings/account\" target=\"_blank\">your Kaggle\nsettings page</a> and paste it below along with your Kaggle username. <br> </center>"
          }
        },
        "cbaa3fe2e6b94ae89cb7e1db2852110b": {
          "model_module": "@jupyter-widgets/controls",
          "model_name": "TextModel",
          "model_module_version": "1.5.0",
          "state": {
            "_dom_classes": [],
            "_model_module": "@jupyter-widgets/controls",
            "_model_module_version": "1.5.0",
            "_model_name": "TextModel",
            "_view_count": null,
            "_view_module": "@jupyter-widgets/controls",
            "_view_module_version": "1.5.0",
            "_view_name": "TextView",
            "continuous_update": true,
            "description": "Username:",
            "description_tooltip": null,
            "disabled": false,
            "layout": "IPY_MODEL_b44c5e20f8e949009777b075097c2eab",
            "placeholder": "​",
            "style": "IPY_MODEL_450da6b643724828aeb73e02ab36ada5",
            "value": "rajivgaba"
          }
        },
        "f627c4c0e3e54e919bf03831d845e9ca": {
          "model_module": "@jupyter-widgets/controls",
          "model_name": "PasswordModel",
          "model_module_version": "1.5.0",
          "state": {
            "_dom_classes": [],
            "_model_module": "@jupyter-widgets/controls",
            "_model_module_version": "1.5.0",
            "_model_name": "PasswordModel",
            "_view_count": null,
            "_view_module": "@jupyter-widgets/controls",
            "_view_module_version": "1.5.0",
            "_view_name": "PasswordView",
            "continuous_update": true,
            "description": "Token:",
            "description_tooltip": null,
            "disabled": false,
            "layout": "IPY_MODEL_4fdb8d83180c4b16965f9297934057aa",
            "placeholder": "​",
            "style": "IPY_MODEL_438ed9fc4a594f618cfb850605d94238",
            "value": ""
          }
        },
        "399cee1bfdac4574af52fdf55f98f46e": {
          "model_module": "@jupyter-widgets/controls",
          "model_name": "ButtonModel",
          "model_module_version": "1.5.0",
          "state": {
            "_dom_classes": [],
            "_model_module": "@jupyter-widgets/controls",
            "_model_module_version": "1.5.0",
            "_model_name": "ButtonModel",
            "_view_count": null,
            "_view_module": "@jupyter-widgets/controls",
            "_view_module_version": "1.5.0",
            "_view_name": "ButtonView",
            "button_style": "",
            "description": "Login",
            "disabled": false,
            "icon": "",
            "layout": "IPY_MODEL_903af560cffe4c87a3c50b23b7fede7c",
            "style": "IPY_MODEL_007f9a77a4364cb489efd296fb1cdaa0",
            "tooltip": ""
          }
        },
        "54c6f4c1f35e44a58a7f9a9a0d7c559c": {
          "model_module": "@jupyter-widgets/controls",
          "model_name": "HTMLModel",
          "model_module_version": "1.5.0",
          "state": {
            "_dom_classes": [],
            "_model_module": "@jupyter-widgets/controls",
            "_model_module_version": "1.5.0",
            "_model_name": "HTMLModel",
            "_view_count": null,
            "_view_module": "@jupyter-widgets/controls",
            "_view_module_version": "1.5.0",
            "_view_name": "HTMLView",
            "description": "",
            "description_tooltip": null,
            "layout": "IPY_MODEL_80ce6b95334146a496ecdd2b3b12d937",
            "placeholder": "​",
            "style": "IPY_MODEL_8d42bbe085534aa792567fb41b235592",
            "value": "\n<b>Thank You</b></center>"
          }
        },
        "cf98f08a3ef54d24b28eeb568efce7db": {
          "model_module": "@jupyter-widgets/base",
          "model_name": "LayoutModel",
          "model_module_version": "1.2.0",
          "state": {
            "_model_module": "@jupyter-widgets/base",
            "_model_module_version": "1.2.0",
            "_model_name": "LayoutModel",
            "_view_count": null,
            "_view_module": "@jupyter-widgets/base",
            "_view_module_version": "1.2.0",
            "_view_name": "LayoutView",
            "align_content": null,
            "align_items": "center",
            "align_self": null,
            "border": null,
            "bottom": null,
            "display": "flex",
            "flex": null,
            "flex_flow": "column",
            "grid_area": null,
            "grid_auto_columns": null,
            "grid_auto_flow": null,
            "grid_auto_rows": null,
            "grid_column": null,
            "grid_gap": null,
            "grid_row": null,
            "grid_template_areas": null,
            "grid_template_columns": null,
            "grid_template_rows": null,
            "height": null,
            "justify_content": null,
            "justify_items": null,
            "left": null,
            "margin": null,
            "max_height": null,
            "max_width": null,
            "min_height": null,
            "min_width": null,
            "object_fit": null,
            "object_position": null,
            "order": null,
            "overflow": null,
            "overflow_x": null,
            "overflow_y": null,
            "padding": null,
            "right": null,
            "top": null,
            "visibility": null,
            "width": "50%"
          }
        },
        "dd96d37bb7264353bf051a289818e3ff": {
          "model_module": "@jupyter-widgets/base",
          "model_name": "LayoutModel",
          "model_module_version": "1.2.0",
          "state": {
            "_model_module": "@jupyter-widgets/base",
            "_model_module_version": "1.2.0",
            "_model_name": "LayoutModel",
            "_view_count": null,
            "_view_module": "@jupyter-widgets/base",
            "_view_module_version": "1.2.0",
            "_view_name": "LayoutView",
            "align_content": null,
            "align_items": null,
            "align_self": null,
            "border": null,
            "bottom": null,
            "display": null,
            "flex": null,
            "flex_flow": null,
            "grid_area": null,
            "grid_auto_columns": null,
            "grid_auto_flow": null,
            "grid_auto_rows": null,
            "grid_column": null,
            "grid_gap": null,
            "grid_row": null,
            "grid_template_areas": null,
            "grid_template_columns": null,
            "grid_template_rows": null,
            "height": null,
            "justify_content": null,
            "justify_items": null,
            "left": null,
            "margin": null,
            "max_height": null,
            "max_width": null,
            "min_height": null,
            "min_width": null,
            "object_fit": null,
            "object_position": null,
            "order": null,
            "overflow": null,
            "overflow_x": null,
            "overflow_y": null,
            "padding": null,
            "right": null,
            "top": null,
            "visibility": null,
            "width": null
          }
        },
        "0aa1a782b0e14ba9b9e0987ce9d33c37": {
          "model_module": "@jupyter-widgets/controls",
          "model_name": "DescriptionStyleModel",
          "model_module_version": "1.5.0",
          "state": {
            "_model_module": "@jupyter-widgets/controls",
            "_model_module_version": "1.5.0",
            "_model_name": "DescriptionStyleModel",
            "_view_count": null,
            "_view_module": "@jupyter-widgets/base",
            "_view_module_version": "1.2.0",
            "_view_name": "StyleView",
            "description_width": ""
          }
        },
        "b44c5e20f8e949009777b075097c2eab": {
          "model_module": "@jupyter-widgets/base",
          "model_name": "LayoutModel",
          "model_module_version": "1.2.0",
          "state": {
            "_model_module": "@jupyter-widgets/base",
            "_model_module_version": "1.2.0",
            "_model_name": "LayoutModel",
            "_view_count": null,
            "_view_module": "@jupyter-widgets/base",
            "_view_module_version": "1.2.0",
            "_view_name": "LayoutView",
            "align_content": null,
            "align_items": null,
            "align_self": null,
            "border": null,
            "bottom": null,
            "display": null,
            "flex": null,
            "flex_flow": null,
            "grid_area": null,
            "grid_auto_columns": null,
            "grid_auto_flow": null,
            "grid_auto_rows": null,
            "grid_column": null,
            "grid_gap": null,
            "grid_row": null,
            "grid_template_areas": null,
            "grid_template_columns": null,
            "grid_template_rows": null,
            "height": null,
            "justify_content": null,
            "justify_items": null,
            "left": null,
            "margin": null,
            "max_height": null,
            "max_width": null,
            "min_height": null,
            "min_width": null,
            "object_fit": null,
            "object_position": null,
            "order": null,
            "overflow": null,
            "overflow_x": null,
            "overflow_y": null,
            "padding": null,
            "right": null,
            "top": null,
            "visibility": null,
            "width": null
          }
        },
        "450da6b643724828aeb73e02ab36ada5": {
          "model_module": "@jupyter-widgets/controls",
          "model_name": "DescriptionStyleModel",
          "model_module_version": "1.5.0",
          "state": {
            "_model_module": "@jupyter-widgets/controls",
            "_model_module_version": "1.5.0",
            "_model_name": "DescriptionStyleModel",
            "_view_count": null,
            "_view_module": "@jupyter-widgets/base",
            "_view_module_version": "1.2.0",
            "_view_name": "StyleView",
            "description_width": ""
          }
        },
        "4fdb8d83180c4b16965f9297934057aa": {
          "model_module": "@jupyter-widgets/base",
          "model_name": "LayoutModel",
          "model_module_version": "1.2.0",
          "state": {
            "_model_module": "@jupyter-widgets/base",
            "_model_module_version": "1.2.0",
            "_model_name": "LayoutModel",
            "_view_count": null,
            "_view_module": "@jupyter-widgets/base",
            "_view_module_version": "1.2.0",
            "_view_name": "LayoutView",
            "align_content": null,
            "align_items": null,
            "align_self": null,
            "border": null,
            "bottom": null,
            "display": null,
            "flex": null,
            "flex_flow": null,
            "grid_area": null,
            "grid_auto_columns": null,
            "grid_auto_flow": null,
            "grid_auto_rows": null,
            "grid_column": null,
            "grid_gap": null,
            "grid_row": null,
            "grid_template_areas": null,
            "grid_template_columns": null,
            "grid_template_rows": null,
            "height": null,
            "justify_content": null,
            "justify_items": null,
            "left": null,
            "margin": null,
            "max_height": null,
            "max_width": null,
            "min_height": null,
            "min_width": null,
            "object_fit": null,
            "object_position": null,
            "order": null,
            "overflow": null,
            "overflow_x": null,
            "overflow_y": null,
            "padding": null,
            "right": null,
            "top": null,
            "visibility": null,
            "width": null
          }
        },
        "438ed9fc4a594f618cfb850605d94238": {
          "model_module": "@jupyter-widgets/controls",
          "model_name": "DescriptionStyleModel",
          "model_module_version": "1.5.0",
          "state": {
            "_model_module": "@jupyter-widgets/controls",
            "_model_module_version": "1.5.0",
            "_model_name": "DescriptionStyleModel",
            "_view_count": null,
            "_view_module": "@jupyter-widgets/base",
            "_view_module_version": "1.2.0",
            "_view_name": "StyleView",
            "description_width": ""
          }
        },
        "903af560cffe4c87a3c50b23b7fede7c": {
          "model_module": "@jupyter-widgets/base",
          "model_name": "LayoutModel",
          "model_module_version": "1.2.0",
          "state": {
            "_model_module": "@jupyter-widgets/base",
            "_model_module_version": "1.2.0",
            "_model_name": "LayoutModel",
            "_view_count": null,
            "_view_module": "@jupyter-widgets/base",
            "_view_module_version": "1.2.0",
            "_view_name": "LayoutView",
            "align_content": null,
            "align_items": null,
            "align_self": null,
            "border": null,
            "bottom": null,
            "display": null,
            "flex": null,
            "flex_flow": null,
            "grid_area": null,
            "grid_auto_columns": null,
            "grid_auto_flow": null,
            "grid_auto_rows": null,
            "grid_column": null,
            "grid_gap": null,
            "grid_row": null,
            "grid_template_areas": null,
            "grid_template_columns": null,
            "grid_template_rows": null,
            "height": null,
            "justify_content": null,
            "justify_items": null,
            "left": null,
            "margin": null,
            "max_height": null,
            "max_width": null,
            "min_height": null,
            "min_width": null,
            "object_fit": null,
            "object_position": null,
            "order": null,
            "overflow": null,
            "overflow_x": null,
            "overflow_y": null,
            "padding": null,
            "right": null,
            "top": null,
            "visibility": null,
            "width": null
          }
        },
        "007f9a77a4364cb489efd296fb1cdaa0": {
          "model_module": "@jupyter-widgets/controls",
          "model_name": "ButtonStyleModel",
          "model_module_version": "1.5.0",
          "state": {
            "_model_module": "@jupyter-widgets/controls",
            "_model_module_version": "1.5.0",
            "_model_name": "ButtonStyleModel",
            "_view_count": null,
            "_view_module": "@jupyter-widgets/base",
            "_view_module_version": "1.2.0",
            "_view_name": "StyleView",
            "button_color": null,
            "font_weight": ""
          }
        },
        "80ce6b95334146a496ecdd2b3b12d937": {
          "model_module": "@jupyter-widgets/base",
          "model_name": "LayoutModel",
          "model_module_version": "1.2.0",
          "state": {
            "_model_module": "@jupyter-widgets/base",
            "_model_module_version": "1.2.0",
            "_model_name": "LayoutModel",
            "_view_count": null,
            "_view_module": "@jupyter-widgets/base",
            "_view_module_version": "1.2.0",
            "_view_name": "LayoutView",
            "align_content": null,
            "align_items": null,
            "align_self": null,
            "border": null,
            "bottom": null,
            "display": null,
            "flex": null,
            "flex_flow": null,
            "grid_area": null,
            "grid_auto_columns": null,
            "grid_auto_flow": null,
            "grid_auto_rows": null,
            "grid_column": null,
            "grid_gap": null,
            "grid_row": null,
            "grid_template_areas": null,
            "grid_template_columns": null,
            "grid_template_rows": null,
            "height": null,
            "justify_content": null,
            "justify_items": null,
            "left": null,
            "margin": null,
            "max_height": null,
            "max_width": null,
            "min_height": null,
            "min_width": null,
            "object_fit": null,
            "object_position": null,
            "order": null,
            "overflow": null,
            "overflow_x": null,
            "overflow_y": null,
            "padding": null,
            "right": null,
            "top": null,
            "visibility": null,
            "width": null
          }
        },
        "8d42bbe085534aa792567fb41b235592": {
          "model_module": "@jupyter-widgets/controls",
          "model_name": "DescriptionStyleModel",
          "model_module_version": "1.5.0",
          "state": {
            "_model_module": "@jupyter-widgets/controls",
            "_model_module_version": "1.5.0",
            "_model_name": "DescriptionStyleModel",
            "_view_count": null,
            "_view_module": "@jupyter-widgets/base",
            "_view_module_version": "1.2.0",
            "_view_name": "StyleView",
            "description_width": ""
          }
        },
        "5ab590ad159745e7bebaa4453f659080": {
          "model_module": "@jupyter-widgets/controls",
          "model_name": "LabelModel",
          "model_module_version": "1.5.0",
          "state": {
            "_dom_classes": [],
            "_model_module": "@jupyter-widgets/controls",
            "_model_module_version": "1.5.0",
            "_model_name": "LabelModel",
            "_view_count": null,
            "_view_module": "@jupyter-widgets/controls",
            "_view_module_version": "1.5.0",
            "_view_name": "LabelView",
            "description": "",
            "description_tooltip": null,
            "layout": "IPY_MODEL_52a0364d803448c6b3192dedb2076bd4",
            "placeholder": "​",
            "style": "IPY_MODEL_8227dc5feae344c7b54f07e2d3e101c7",
            "value": "Connecting..."
          }
        },
        "52a0364d803448c6b3192dedb2076bd4": {
          "model_module": "@jupyter-widgets/base",
          "model_name": "LayoutModel",
          "model_module_version": "1.2.0",
          "state": {
            "_model_module": "@jupyter-widgets/base",
            "_model_module_version": "1.2.0",
            "_model_name": "LayoutModel",
            "_view_count": null,
            "_view_module": "@jupyter-widgets/base",
            "_view_module_version": "1.2.0",
            "_view_name": "LayoutView",
            "align_content": null,
            "align_items": null,
            "align_self": null,
            "border": null,
            "bottom": null,
            "display": null,
            "flex": null,
            "flex_flow": null,
            "grid_area": null,
            "grid_auto_columns": null,
            "grid_auto_flow": null,
            "grid_auto_rows": null,
            "grid_column": null,
            "grid_gap": null,
            "grid_row": null,
            "grid_template_areas": null,
            "grid_template_columns": null,
            "grid_template_rows": null,
            "height": null,
            "justify_content": null,
            "justify_items": null,
            "left": null,
            "margin": null,
            "max_height": null,
            "max_width": null,
            "min_height": null,
            "min_width": null,
            "object_fit": null,
            "object_position": null,
            "order": null,
            "overflow": null,
            "overflow_x": null,
            "overflow_y": null,
            "padding": null,
            "right": null,
            "top": null,
            "visibility": null,
            "width": null
          }
        },
        "8227dc5feae344c7b54f07e2d3e101c7": {
          "model_module": "@jupyter-widgets/controls",
          "model_name": "DescriptionStyleModel",
          "model_module_version": "1.5.0",
          "state": {
            "_model_module": "@jupyter-widgets/controls",
            "_model_module_version": "1.5.0",
            "_model_name": "DescriptionStyleModel",
            "_view_count": null,
            "_view_module": "@jupyter-widgets/base",
            "_view_module_version": "1.2.0",
            "_view_name": "StyleView",
            "description_width": ""
          }
        },
        "70c776020aa24df6be7d3f6eb7909268": {
          "model_module": "@jupyter-widgets/controls",
          "model_name": "LabelModel",
          "model_module_version": "1.5.0",
          "state": {
            "_dom_classes": [],
            "_model_module": "@jupyter-widgets/controls",
            "_model_module_version": "1.5.0",
            "_model_name": "LabelModel",
            "_view_count": null,
            "_view_module": "@jupyter-widgets/controls",
            "_view_module_version": "1.5.0",
            "_view_name": "LabelView",
            "description": "",
            "description_tooltip": null,
            "layout": "IPY_MODEL_0cbc7e3ff7314f6e9ff3ec8027e38c68",
            "placeholder": "​",
            "style": "IPY_MODEL_509a8fd0736f416a8fc85f83b1e69ac0",
            "value": "Kaggle credentials successfully validated."
          }
        },
        "0cbc7e3ff7314f6e9ff3ec8027e38c68": {
          "model_module": "@jupyter-widgets/base",
          "model_name": "LayoutModel",
          "model_module_version": "1.2.0",
          "state": {
            "_model_module": "@jupyter-widgets/base",
            "_model_module_version": "1.2.0",
            "_model_name": "LayoutModel",
            "_view_count": null,
            "_view_module": "@jupyter-widgets/base",
            "_view_module_version": "1.2.0",
            "_view_name": "LayoutView",
            "align_content": null,
            "align_items": null,
            "align_self": null,
            "border": null,
            "bottom": null,
            "display": null,
            "flex": null,
            "flex_flow": null,
            "grid_area": null,
            "grid_auto_columns": null,
            "grid_auto_flow": null,
            "grid_auto_rows": null,
            "grid_column": null,
            "grid_gap": null,
            "grid_row": null,
            "grid_template_areas": null,
            "grid_template_columns": null,
            "grid_template_rows": null,
            "height": null,
            "justify_content": null,
            "justify_items": null,
            "left": null,
            "margin": null,
            "max_height": null,
            "max_width": null,
            "min_height": null,
            "min_width": null,
            "object_fit": null,
            "object_position": null,
            "order": null,
            "overflow": null,
            "overflow_x": null,
            "overflow_y": null,
            "padding": null,
            "right": null,
            "top": null,
            "visibility": null,
            "width": null
          }
        },
        "509a8fd0736f416a8fc85f83b1e69ac0": {
          "model_module": "@jupyter-widgets/controls",
          "model_name": "DescriptionStyleModel",
          "model_module_version": "1.5.0",
          "state": {
            "_model_module": "@jupyter-widgets/controls",
            "_model_module_version": "1.5.0",
            "_model_name": "DescriptionStyleModel",
            "_view_count": null,
            "_view_module": "@jupyter-widgets/base",
            "_view_module_version": "1.2.0",
            "_view_name": "StyleView",
            "description_width": ""
          }
        }
      }
    }
  },
  "nbformat_minor": 0,
  "nbformat": 4,
  "cells": [
    {
      "cell_type": "markdown",
      "metadata": {
        "id": "view-in-github",
        "colab_type": "text"
      },
      "source": [
        "<a href=\"https://colab.research.google.com/github/rajivgaba/predict-optimal-fertilizers/blob/main/notebookb8e0cb1867.ipynb\" target=\"_parent\"><img src=\"https://colab.research.google.com/assets/colab-badge.svg\" alt=\"Open In Colab\"/></a>"
      ]
    },
    {
      "source": [
        "# IMPORTANT: SOME KAGGLE DATA SOURCES ARE PRIVATE\n",
        "# RUN THIS CELL IN ORDER TO IMPORT YOUR KAGGLE DATA SOURCES.\n",
        "import kagglehub\n",
        "kagglehub.login()\n"
      ],
      "metadata": {
        "colab": {
          "base_uri": "https://localhost:8080/",
          "height": 85,
          "referenced_widgets": [
            "dff0ec368cd74c27b3820a07492efd0f",
            "56495d742ade41c18d6410f935588c5a",
            "cbaa3fe2e6b94ae89cb7e1db2852110b",
            "f627c4c0e3e54e919bf03831d845e9ca",
            "399cee1bfdac4574af52fdf55f98f46e",
            "54c6f4c1f35e44a58a7f9a9a0d7c559c",
            "cf98f08a3ef54d24b28eeb568efce7db",
            "dd96d37bb7264353bf051a289818e3ff",
            "0aa1a782b0e14ba9b9e0987ce9d33c37",
            "b44c5e20f8e949009777b075097c2eab",
            "450da6b643724828aeb73e02ab36ada5",
            "4fdb8d83180c4b16965f9297934057aa",
            "438ed9fc4a594f618cfb850605d94238",
            "903af560cffe4c87a3c50b23b7fede7c",
            "007f9a77a4364cb489efd296fb1cdaa0",
            "80ce6b95334146a496ecdd2b3b12d937",
            "8d42bbe085534aa792567fb41b235592",
            "5ab590ad159745e7bebaa4453f659080",
            "52a0364d803448c6b3192dedb2076bd4",
            "8227dc5feae344c7b54f07e2d3e101c7",
            "70c776020aa24df6be7d3f6eb7909268",
            "0cbc7e3ff7314f6e9ff3ec8027e38c68",
            "509a8fd0736f416a8fc85f83b1e69ac0"
          ]
        },
        "id": "DaPrB76W_5NL",
        "outputId": "df3b6987-2eaa-4137-c67a-7b9a0e0cc4f2"
      },
      "cell_type": "code",
      "outputs": [
        {
          "output_type": "display_data",
          "data": {
            "text/plain": [
              "VBox(children=(HTML(value='<center> <img\\nsrc=https://www.kaggle.com/static/images/site-logo.png\\nalt=\\'Kaggle…"
            ],
            "application/vnd.jupyter.widget-view+json": {
              "version_major": 2,
              "version_minor": 0,
              "model_id": "dff0ec368cd74c27b3820a07492efd0f"
            }
          },
          "metadata": {}
        },
        {
          "output_type": "stream",
          "name": "stdout",
          "text": [
            "Kaggle credentials set.\n",
            "Kaggle credentials successfully validated.\n"
          ]
        }
      ],
      "execution_count": 1
    },
    {
      "source": [
        "# IMPORTANT: RUN THIS CELL IN ORDER TO IMPORT YOUR KAGGLE DATA SOURCES,\n",
        "# THEN FEEL FREE TO DELETE THIS CELL.\n",
        "# NOTE: THIS NOTEBOOK ENVIRONMENT DIFFERS FROM KAGGLE'S PYTHON\n",
        "# ENVIRONMENT SO THERE MAY BE MISSING LIBRARIES USED BY YOUR\n",
        "# NOTEBOOK.\n",
        "\n",
        "playground_series_s5e6_path = kagglehub.competition_download('playground-series-s5e6')\n",
        "\n",
        "print('Data source import complete.')\n"
      ],
      "metadata": {
        "colab": {
          "base_uri": "https://localhost:8080/"
        },
        "id": "v5qAfkbr_5NZ",
        "outputId": "87cb6aae-e566-4023-fb46-5ab62918f074"
      },
      "cell_type": "code",
      "outputs": [
        {
          "output_type": "stream",
          "name": "stdout",
          "text": [
            "Downloading from https://www.kaggle.com/api/v1/competitions/data/download-all/playground-series-s5e6...\n"
          ]
        },
        {
          "output_type": "stream",
          "name": "stderr",
          "text": [
            "100%|██████████| 11.7M/11.7M [00:00<00:00, 134MB/s]"
          ]
        },
        {
          "output_type": "stream",
          "name": "stdout",
          "text": [
            "Extracting files...\n"
          ]
        },
        {
          "output_type": "stream",
          "name": "stderr",
          "text": [
            "\n"
          ]
        },
        {
          "output_type": "stream",
          "name": "stdout",
          "text": [
            "Data source import complete.\n"
          ]
        }
      ],
      "execution_count": 2
    },
    {
      "cell_type": "code",
      "source": [
        "import os\n",
        "os.listdir(playground_series_s5e6_path)\n",
        "print(playground_series_s5e6_path)"
      ],
      "metadata": {
        "colab": {
          "base_uri": "https://localhost:8080/"
        },
        "id": "nTHtQfr2A6jb",
        "outputId": "8ae7491b-9877-4761-d13e-5c591bd8bc4c"
      },
      "execution_count": 9,
      "outputs": [
        {
          "output_type": "stream",
          "name": "stdout",
          "text": [
            "/root/.cache/kagglehub/competitions/playground-series-s5e6\n"
          ]
        }
      ]
    },
    {
      "cell_type": "code",
      "source": [
        "# This Python 3 environment comes with many helpful analytics libraries installed\n",
        "# It is defined by the kaggle/python Docker image: https://github.com/kaggle/docker-python\n",
        "# For example, here's several helpful packages to load\n",
        "\n",
        "import numpy as np # linear algebra\n",
        "import pandas as pd # data processing, CSV file I/O (e.g. pd.read_csv)\n",
        "\n",
        "# Input data files are available in the read-only \"../input/\" directory\n",
        "# For example, running this (by clicking run or pressing Shift+Enter) will list all files under the input directory\n",
        "\n",
        "import os\n",
        "for dirname, _, filenames in os.walk('/kaggle/input'):\n",
        "    for filename in filenames:\n",
        "        print(os.path.join(dirname, filename))\n",
        "\n",
        "# You can write up to 20GB to the current directory (/kaggle/working/) that gets preserved as output when you create a version using \"Save & Run All\"\n",
        "# You can also write temporary files to /kaggle/temp/, but they won't be saved outside of the current session"
      ],
      "metadata": {
        "_uuid": "8f2839f25d086af736a60e9eeb907d3b93b6e0e5",
        "_cell_guid": "b1076dfc-b9ad-4769-8c92-a6c4dae69d19",
        "trusted": true,
        "execution": {
          "iopub.status.busy": "2025-06-25T05:34:21.268502Z",
          "iopub.execute_input": "2025-06-25T05:34:21.268827Z",
          "iopub.status.idle": "2025-06-25T05:34:23.676155Z",
          "shell.execute_reply.started": "2025-06-25T05:34:21.268804Z",
          "shell.execute_reply": "2025-06-25T05:34:23.675138Z"
        },
        "id": "LChWvyUh_5Nb"
      },
      "outputs": [],
      "execution_count": 3
    },
    {
      "cell_type": "code",
      "source": [
        "base_path = playground_series_s5e6_path"
      ],
      "metadata": {
        "id": "j4-1aDvnAKNF"
      },
      "execution_count": 12,
      "outputs": []
    },
    {
      "cell_type": "code",
      "source": [
        "train_file = base_path + \"/\" + \"train.csv\"\n",
        "test_file = base_path + \"/test.csv\""
      ],
      "metadata": {
        "trusted": true,
        "execution": {
          "iopub.status.busy": "2025-06-25T05:34:23.677615Z",
          "iopub.execute_input": "2025-06-25T05:34:23.678097Z",
          "iopub.status.idle": "2025-06-25T05:34:23.682554Z",
          "shell.execute_reply.started": "2025-06-25T05:34:23.678073Z",
          "shell.execute_reply": "2025-06-25T05:34:23.681554Z"
        },
        "id": "KW6bkMGh_5Ng"
      },
      "outputs": [],
      "execution_count": 15
    },
    {
      "cell_type": "code",
      "source": [
        "train_data = pd.read_csv(train_file)\n",
        "train_data.head()"
      ],
      "metadata": {
        "trusted": true,
        "execution": {
          "iopub.status.busy": "2025-06-25T05:34:23.683509Z",
          "iopub.execute_input": "2025-06-25T05:34:23.683783Z",
          "iopub.status.idle": "2025-06-25T05:34:24.984807Z",
          "shell.execute_reply.started": "2025-06-25T05:34:23.683762Z",
          "shell.execute_reply": "2025-06-25T05:34:24.983827Z"
        },
        "colab": {
          "base_uri": "https://localhost:8080/",
          "height": 206
        },
        "id": "6nXVYs_e_5Nh",
        "outputId": "b09c9456-507e-4a29-8e45-a0dc61249235"
      },
      "outputs": [
        {
          "output_type": "execute_result",
          "data": {
            "text/plain": [
              "   id  Temparature  Humidity  Moisture Soil Type  Crop Type  Nitrogen  \\\n",
              "0   0           37        70        36    Clayey  Sugarcane        36   \n",
              "1   1           27        69        65     Sandy    Millets        30   \n",
              "2   2           29        63        32     Sandy    Millets        24   \n",
              "3   3           35        62        54     Sandy     Barley        39   \n",
              "4   4           35        58        43       Red      Paddy        37   \n",
              "\n",
              "   Potassium  Phosphorous Fertilizer Name  \n",
              "0          4            5           28-28  \n",
              "1          6           18           28-28  \n",
              "2         12           16        17-17-17  \n",
              "3         12            4        10-26-26  \n",
              "4          2           16             DAP  "
            ],
            "text/html": [
              "\n",
              "  <div id=\"df-d2f249a3-8de6-45a4-98e7-cc8ea7d7d2af\" class=\"colab-df-container\">\n",
              "    <div>\n",
              "<style scoped>\n",
              "    .dataframe tbody tr th:only-of-type {\n",
              "        vertical-align: middle;\n",
              "    }\n",
              "\n",
              "    .dataframe tbody tr th {\n",
              "        vertical-align: top;\n",
              "    }\n",
              "\n",
              "    .dataframe thead th {\n",
              "        text-align: right;\n",
              "    }\n",
              "</style>\n",
              "<table border=\"1\" class=\"dataframe\">\n",
              "  <thead>\n",
              "    <tr style=\"text-align: right;\">\n",
              "      <th></th>\n",
              "      <th>id</th>\n",
              "      <th>Temparature</th>\n",
              "      <th>Humidity</th>\n",
              "      <th>Moisture</th>\n",
              "      <th>Soil Type</th>\n",
              "      <th>Crop Type</th>\n",
              "      <th>Nitrogen</th>\n",
              "      <th>Potassium</th>\n",
              "      <th>Phosphorous</th>\n",
              "      <th>Fertilizer Name</th>\n",
              "    </tr>\n",
              "  </thead>\n",
              "  <tbody>\n",
              "    <tr>\n",
              "      <th>0</th>\n",
              "      <td>0</td>\n",
              "      <td>37</td>\n",
              "      <td>70</td>\n",
              "      <td>36</td>\n",
              "      <td>Clayey</td>\n",
              "      <td>Sugarcane</td>\n",
              "      <td>36</td>\n",
              "      <td>4</td>\n",
              "      <td>5</td>\n",
              "      <td>28-28</td>\n",
              "    </tr>\n",
              "    <tr>\n",
              "      <th>1</th>\n",
              "      <td>1</td>\n",
              "      <td>27</td>\n",
              "      <td>69</td>\n",
              "      <td>65</td>\n",
              "      <td>Sandy</td>\n",
              "      <td>Millets</td>\n",
              "      <td>30</td>\n",
              "      <td>6</td>\n",
              "      <td>18</td>\n",
              "      <td>28-28</td>\n",
              "    </tr>\n",
              "    <tr>\n",
              "      <th>2</th>\n",
              "      <td>2</td>\n",
              "      <td>29</td>\n",
              "      <td>63</td>\n",
              "      <td>32</td>\n",
              "      <td>Sandy</td>\n",
              "      <td>Millets</td>\n",
              "      <td>24</td>\n",
              "      <td>12</td>\n",
              "      <td>16</td>\n",
              "      <td>17-17-17</td>\n",
              "    </tr>\n",
              "    <tr>\n",
              "      <th>3</th>\n",
              "      <td>3</td>\n",
              "      <td>35</td>\n",
              "      <td>62</td>\n",
              "      <td>54</td>\n",
              "      <td>Sandy</td>\n",
              "      <td>Barley</td>\n",
              "      <td>39</td>\n",
              "      <td>12</td>\n",
              "      <td>4</td>\n",
              "      <td>10-26-26</td>\n",
              "    </tr>\n",
              "    <tr>\n",
              "      <th>4</th>\n",
              "      <td>4</td>\n",
              "      <td>35</td>\n",
              "      <td>58</td>\n",
              "      <td>43</td>\n",
              "      <td>Red</td>\n",
              "      <td>Paddy</td>\n",
              "      <td>37</td>\n",
              "      <td>2</td>\n",
              "      <td>16</td>\n",
              "      <td>DAP</td>\n",
              "    </tr>\n",
              "  </tbody>\n",
              "</table>\n",
              "</div>\n",
              "    <div class=\"colab-df-buttons\">\n",
              "\n",
              "  <div class=\"colab-df-container\">\n",
              "    <button class=\"colab-df-convert\" onclick=\"convertToInteractive('df-d2f249a3-8de6-45a4-98e7-cc8ea7d7d2af')\"\n",
              "            title=\"Convert this dataframe to an interactive table.\"\n",
              "            style=\"display:none;\">\n",
              "\n",
              "  <svg xmlns=\"http://www.w3.org/2000/svg\" height=\"24px\" viewBox=\"0 -960 960 960\">\n",
              "    <path d=\"M120-120v-720h720v720H120Zm60-500h600v-160H180v160Zm220 220h160v-160H400v160Zm0 220h160v-160H400v160ZM180-400h160v-160H180v160Zm440 0h160v-160H620v160ZM180-180h160v-160H180v160Zm440 0h160v-160H620v160Z\"/>\n",
              "  </svg>\n",
              "    </button>\n",
              "\n",
              "  <style>\n",
              "    .colab-df-container {\n",
              "      display:flex;\n",
              "      gap: 12px;\n",
              "    }\n",
              "\n",
              "    .colab-df-convert {\n",
              "      background-color: #E8F0FE;\n",
              "      border: none;\n",
              "      border-radius: 50%;\n",
              "      cursor: pointer;\n",
              "      display: none;\n",
              "      fill: #1967D2;\n",
              "      height: 32px;\n",
              "      padding: 0 0 0 0;\n",
              "      width: 32px;\n",
              "    }\n",
              "\n",
              "    .colab-df-convert:hover {\n",
              "      background-color: #E2EBFA;\n",
              "      box-shadow: 0px 1px 2px rgba(60, 64, 67, 0.3), 0px 1px 3px 1px rgba(60, 64, 67, 0.15);\n",
              "      fill: #174EA6;\n",
              "    }\n",
              "\n",
              "    .colab-df-buttons div {\n",
              "      margin-bottom: 4px;\n",
              "    }\n",
              "\n",
              "    [theme=dark] .colab-df-convert {\n",
              "      background-color: #3B4455;\n",
              "      fill: #D2E3FC;\n",
              "    }\n",
              "\n",
              "    [theme=dark] .colab-df-convert:hover {\n",
              "      background-color: #434B5C;\n",
              "      box-shadow: 0px 1px 3px 1px rgba(0, 0, 0, 0.15);\n",
              "      filter: drop-shadow(0px 1px 2px rgba(0, 0, 0, 0.3));\n",
              "      fill: #FFFFFF;\n",
              "    }\n",
              "  </style>\n",
              "\n",
              "    <script>\n",
              "      const buttonEl =\n",
              "        document.querySelector('#df-d2f249a3-8de6-45a4-98e7-cc8ea7d7d2af button.colab-df-convert');\n",
              "      buttonEl.style.display =\n",
              "        google.colab.kernel.accessAllowed ? 'block' : 'none';\n",
              "\n",
              "      async function convertToInteractive(key) {\n",
              "        const element = document.querySelector('#df-d2f249a3-8de6-45a4-98e7-cc8ea7d7d2af');\n",
              "        const dataTable =\n",
              "          await google.colab.kernel.invokeFunction('convertToInteractive',\n",
              "                                                    [key], {});\n",
              "        if (!dataTable) return;\n",
              "\n",
              "        const docLinkHtml = 'Like what you see? Visit the ' +\n",
              "          '<a target=\"_blank\" href=https://colab.research.google.com/notebooks/data_table.ipynb>data table notebook</a>'\n",
              "          + ' to learn more about interactive tables.';\n",
              "        element.innerHTML = '';\n",
              "        dataTable['output_type'] = 'display_data';\n",
              "        await google.colab.output.renderOutput(dataTable, element);\n",
              "        const docLink = document.createElement('div');\n",
              "        docLink.innerHTML = docLinkHtml;\n",
              "        element.appendChild(docLink);\n",
              "      }\n",
              "    </script>\n",
              "  </div>\n",
              "\n",
              "\n",
              "    <div id=\"df-3dc8ac23-c1a5-4f1e-88bf-cb09f1833818\">\n",
              "      <button class=\"colab-df-quickchart\" onclick=\"quickchart('df-3dc8ac23-c1a5-4f1e-88bf-cb09f1833818')\"\n",
              "                title=\"Suggest charts\"\n",
              "                style=\"display:none;\">\n",
              "\n",
              "<svg xmlns=\"http://www.w3.org/2000/svg\" height=\"24px\"viewBox=\"0 0 24 24\"\n",
              "     width=\"24px\">\n",
              "    <g>\n",
              "        <path d=\"M19 3H5c-1.1 0-2 .9-2 2v14c0 1.1.9 2 2 2h14c1.1 0 2-.9 2-2V5c0-1.1-.9-2-2-2zM9 17H7v-7h2v7zm4 0h-2V7h2v10zm4 0h-2v-4h2v4z\"/>\n",
              "    </g>\n",
              "</svg>\n",
              "      </button>\n",
              "\n",
              "<style>\n",
              "  .colab-df-quickchart {\n",
              "      --bg-color: #E8F0FE;\n",
              "      --fill-color: #1967D2;\n",
              "      --hover-bg-color: #E2EBFA;\n",
              "      --hover-fill-color: #174EA6;\n",
              "      --disabled-fill-color: #AAA;\n",
              "      --disabled-bg-color: #DDD;\n",
              "  }\n",
              "\n",
              "  [theme=dark] .colab-df-quickchart {\n",
              "      --bg-color: #3B4455;\n",
              "      --fill-color: #D2E3FC;\n",
              "      --hover-bg-color: #434B5C;\n",
              "      --hover-fill-color: #FFFFFF;\n",
              "      --disabled-bg-color: #3B4455;\n",
              "      --disabled-fill-color: #666;\n",
              "  }\n",
              "\n",
              "  .colab-df-quickchart {\n",
              "    background-color: var(--bg-color);\n",
              "    border: none;\n",
              "    border-radius: 50%;\n",
              "    cursor: pointer;\n",
              "    display: none;\n",
              "    fill: var(--fill-color);\n",
              "    height: 32px;\n",
              "    padding: 0;\n",
              "    width: 32px;\n",
              "  }\n",
              "\n",
              "  .colab-df-quickchart:hover {\n",
              "    background-color: var(--hover-bg-color);\n",
              "    box-shadow: 0 1px 2px rgba(60, 64, 67, 0.3), 0 1px 3px 1px rgba(60, 64, 67, 0.15);\n",
              "    fill: var(--button-hover-fill-color);\n",
              "  }\n",
              "\n",
              "  .colab-df-quickchart-complete:disabled,\n",
              "  .colab-df-quickchart-complete:disabled:hover {\n",
              "    background-color: var(--disabled-bg-color);\n",
              "    fill: var(--disabled-fill-color);\n",
              "    box-shadow: none;\n",
              "  }\n",
              "\n",
              "  .colab-df-spinner {\n",
              "    border: 2px solid var(--fill-color);\n",
              "    border-color: transparent;\n",
              "    border-bottom-color: var(--fill-color);\n",
              "    animation:\n",
              "      spin 1s steps(1) infinite;\n",
              "  }\n",
              "\n",
              "  @keyframes spin {\n",
              "    0% {\n",
              "      border-color: transparent;\n",
              "      border-bottom-color: var(--fill-color);\n",
              "      border-left-color: var(--fill-color);\n",
              "    }\n",
              "    20% {\n",
              "      border-color: transparent;\n",
              "      border-left-color: var(--fill-color);\n",
              "      border-top-color: var(--fill-color);\n",
              "    }\n",
              "    30% {\n",
              "      border-color: transparent;\n",
              "      border-left-color: var(--fill-color);\n",
              "      border-top-color: var(--fill-color);\n",
              "      border-right-color: var(--fill-color);\n",
              "    }\n",
              "    40% {\n",
              "      border-color: transparent;\n",
              "      border-right-color: var(--fill-color);\n",
              "      border-top-color: var(--fill-color);\n",
              "    }\n",
              "    60% {\n",
              "      border-color: transparent;\n",
              "      border-right-color: var(--fill-color);\n",
              "    }\n",
              "    80% {\n",
              "      border-color: transparent;\n",
              "      border-right-color: var(--fill-color);\n",
              "      border-bottom-color: var(--fill-color);\n",
              "    }\n",
              "    90% {\n",
              "      border-color: transparent;\n",
              "      border-bottom-color: var(--fill-color);\n",
              "    }\n",
              "  }\n",
              "</style>\n",
              "\n",
              "      <script>\n",
              "        async function quickchart(key) {\n",
              "          const quickchartButtonEl =\n",
              "            document.querySelector('#' + key + ' button');\n",
              "          quickchartButtonEl.disabled = true;  // To prevent multiple clicks.\n",
              "          quickchartButtonEl.classList.add('colab-df-spinner');\n",
              "          try {\n",
              "            const charts = await google.colab.kernel.invokeFunction(\n",
              "                'suggestCharts', [key], {});\n",
              "          } catch (error) {\n",
              "            console.error('Error during call to suggestCharts:', error);\n",
              "          }\n",
              "          quickchartButtonEl.classList.remove('colab-df-spinner');\n",
              "          quickchartButtonEl.classList.add('colab-df-quickchart-complete');\n",
              "        }\n",
              "        (() => {\n",
              "          let quickchartButtonEl =\n",
              "            document.querySelector('#df-3dc8ac23-c1a5-4f1e-88bf-cb09f1833818 button');\n",
              "          quickchartButtonEl.style.display =\n",
              "            google.colab.kernel.accessAllowed ? 'block' : 'none';\n",
              "        })();\n",
              "      </script>\n",
              "    </div>\n",
              "\n",
              "    </div>\n",
              "  </div>\n"
            ],
            "application/vnd.google.colaboratory.intrinsic+json": {
              "type": "dataframe",
              "variable_name": "train_data"
            }
          },
          "metadata": {},
          "execution_count": 16
        }
      ],
      "execution_count": 16
    },
    {
      "cell_type": "code",
      "source": [
        "train_data.info()"
      ],
      "metadata": {
        "trusted": true,
        "execution": {
          "iopub.status.busy": "2025-06-25T05:34:24.986508Z",
          "iopub.execute_input": "2025-06-25T05:34:24.986908Z",
          "iopub.status.idle": "2025-06-25T05:34:25.145318Z",
          "shell.execute_reply.started": "2025-06-25T05:34:24.986883Z",
          "shell.execute_reply": "2025-06-25T05:34:25.144315Z"
        },
        "colab": {
          "base_uri": "https://localhost:8080/"
        },
        "id": "s00rEwxe_5Nj",
        "outputId": "25c7c7c0-f7bf-413a-db1a-db8ab213641f"
      },
      "outputs": [
        {
          "output_type": "stream",
          "name": "stdout",
          "text": [
            "<class 'pandas.core.frame.DataFrame'>\n",
            "RangeIndex: 750000 entries, 0 to 749999\n",
            "Data columns (total 10 columns):\n",
            " #   Column           Non-Null Count   Dtype \n",
            "---  ------           --------------   ----- \n",
            " 0   id               750000 non-null  int64 \n",
            " 1   Temparature      750000 non-null  int64 \n",
            " 2   Humidity         750000 non-null  int64 \n",
            " 3   Moisture         750000 non-null  int64 \n",
            " 4   Soil Type        750000 non-null  object\n",
            " 5   Crop Type        750000 non-null  object\n",
            " 6   Nitrogen         750000 non-null  int64 \n",
            " 7   Potassium        750000 non-null  int64 \n",
            " 8   Phosphorous      750000 non-null  int64 \n",
            " 9   Fertilizer Name  750000 non-null  object\n",
            "dtypes: int64(7), object(3)\n",
            "memory usage: 57.2+ MB\n"
          ]
        }
      ],
      "execution_count": 18
    },
    {
      "cell_type": "code",
      "source": [
        "train_data['id'].dtype"
      ],
      "metadata": {
        "trusted": true,
        "execution": {
          "iopub.status.busy": "2025-06-25T05:34:25.146404Z",
          "iopub.execute_input": "2025-06-25T05:34:25.146757Z",
          "iopub.status.idle": "2025-06-25T05:34:25.15373Z",
          "shell.execute_reply.started": "2025-06-25T05:34:25.146725Z",
          "shell.execute_reply": "2025-06-25T05:34:25.152825Z"
        },
        "id": "8iMZ1PIQ_5Nk",
        "outputId": "d61afdc7-5251-4ddf-f9db-63943643c1c4"
      },
      "outputs": [
        {
          "execution_count": 5,
          "output_type": "execute_result",
          "data": {
            "text/plain": "dtype('int64')"
          },
          "metadata": {}
        }
      ],
      "execution_count": null
    },
    {
      "cell_type": "code",
      "source": [
        "from sklearn.preprocessing import StandardScaler, LabelEncoder, OneHotEncoder\n",
        "from sklearn.compose import ColumnTransformer\n",
        "from sklearn.pipeline import Pipeline\n",
        "from sklearn.model_selection import train_test_split\n",
        "from sklearn.impute import SimpleImputer"
      ],
      "metadata": {
        "trusted": true,
        "execution": {
          "iopub.status.busy": "2025-06-25T05:34:25.154729Z",
          "iopub.execute_input": "2025-06-25T05:34:25.155024Z",
          "iopub.status.idle": "2025-06-25T05:34:27.097547Z",
          "shell.execute_reply.started": "2025-06-25T05:34:25.155003Z",
          "shell.execute_reply": "2025-06-25T05:34:27.096296Z"
        },
        "id": "_VE-taxg_5Nl"
      },
      "outputs": [],
      "execution_count": null
    },
    {
      "cell_type": "code",
      "source": [
        "target = ['id']\n",
        "num_cols = train_data.select_dtypes(['int64','float64']).columns.to_list()\n",
        "cat_cols = train_data.select_dtypes(['object']).columns.to_list()\n",
        "num_cols.remove('id')\n",
        "num_cols, cat_cols, target"
      ],
      "metadata": {
        "trusted": true,
        "execution": {
          "iopub.status.busy": "2025-06-25T05:34:27.098589Z",
          "iopub.execute_input": "2025-06-25T05:34:27.099003Z",
          "iopub.status.idle": "2025-06-25T05:34:27.145743Z",
          "shell.execute_reply.started": "2025-06-25T05:34:27.098979Z",
          "shell.execute_reply": "2025-06-25T05:34:27.14486Z"
        },
        "id": "6lwv9dO4_5Nm",
        "outputId": "ceca0924-8bef-4703-ad61-5949dc10cc08"
      },
      "outputs": [
        {
          "execution_count": 7,
          "output_type": "execute_result",
          "data": {
            "text/plain": "(['Temparature',\n  'Humidity',\n  'Moisture',\n  'Nitrogen',\n  'Potassium',\n  'Phosphorous'],\n ['Soil Type', 'Crop Type', 'Fertilizer Name'],\n ['id'])"
          },
          "metadata": {}
        }
      ],
      "execution_count": null
    },
    {
      "cell_type": "code",
      "source": [
        "'''\n",
        "# Define transformers\n",
        "\n",
        "numerical_pipeline = Pipeline(\n",
        "    steps = [\n",
        "        ('imputer', SimpleImputer(strategy='mean')),\n",
        "        ('scaler', StandardScaler())\n",
        "    ]\n",
        ")\n",
        "\n",
        "categorical_pipeline = Pipeline(steps=[\n",
        "    ('imputer', SimpleImputer(strategy='most_frequent')),\n",
        "    ('encoder', OneHotEncoder() )\n",
        "])\n",
        "\n",
        "# Create a preprocessor\n",
        "\n",
        "preprocessor = ColumnTransformer(\n",
        "    transformers = [\n",
        "        ('num', numerical_pipeline, num_cols),\n",
        "        ('cat', categorical_pipeline, cat_cols)\n",
        "    ]\n",
        ")\n",
        "\n",
        "# Execute the preprocessor\n",
        "transformed_data = preprocessor.fit_transform(train_data)\n",
        "\n",
        "'''"
      ],
      "metadata": {
        "trusted": true,
        "execution": {
          "iopub.status.busy": "2025-06-25T05:34:27.146638Z",
          "iopub.execute_input": "2025-06-25T05:34:27.146962Z",
          "iopub.status.idle": "2025-06-25T05:34:27.153601Z",
          "shell.execute_reply.started": "2025-06-25T05:34:27.146936Z",
          "shell.execute_reply": "2025-06-25T05:34:27.15276Z"
        },
        "id": "OlXc7rHF_5Nn",
        "outputId": "9d28f28f-94d8-4405-ab74-cc6a7c2657de"
      },
      "outputs": [
        {
          "execution_count": 8,
          "output_type": "execute_result",
          "data": {
            "text/plain": "\"\\n# Define transformers \\n\\nnumerical_pipeline = Pipeline(\\n    steps = [\\n        ('imputer', SimpleImputer(strategy='mean')),\\n        ('scaler', StandardScaler())\\n    ]\\n)\\n\\ncategorical_pipeline = Pipeline(steps=[\\n    ('imputer', SimpleImputer(strategy='most_frequent')),\\n    ('encoder', OneHotEncoder() )\\n])\\n\\n# Create a preprocessor\\n\\npreprocessor = ColumnTransformer(\\n    transformers = [\\n        ('num', numerical_pipeline, num_cols),\\n        ('cat', categorical_pipeline, cat_cols)\\n    ]\\n)\\n\\n# Execute the preprocessor\\ntransformed_data = preprocessor.fit_transform(train_data)\\n\\n\""
          },
          "metadata": {}
        }
      ],
      "execution_count": null
    },
    {
      "cell_type": "code",
      "source": [
        "le = LabelEncoder()\n",
        "\n",
        "for col in cat_cols:\n",
        "    train_data[col] = le.fit_transform(train_data[col])"
      ],
      "metadata": {
        "trusted": true,
        "execution": {
          "iopub.status.busy": "2025-06-25T05:34:27.154819Z",
          "iopub.execute_input": "2025-06-25T05:34:27.155769Z",
          "iopub.status.idle": "2025-06-25T05:34:27.593788Z",
          "shell.execute_reply.started": "2025-06-25T05:34:27.155734Z",
          "shell.execute_reply": "2025-06-25T05:34:27.592892Z"
        },
        "id": "nmex8qDH_5No"
      },
      "outputs": [],
      "execution_count": null
    },
    {
      "cell_type": "code",
      "source": [
        "train_data.head()"
      ],
      "metadata": {
        "trusted": true,
        "execution": {
          "iopub.status.busy": "2025-06-25T05:34:27.596322Z",
          "iopub.execute_input": "2025-06-25T05:34:27.596601Z",
          "iopub.status.idle": "2025-06-25T05:34:27.607361Z",
          "shell.execute_reply.started": "2025-06-25T05:34:27.596581Z",
          "shell.execute_reply": "2025-06-25T05:34:27.606413Z"
        },
        "id": "g-bHOxjZ_5Np",
        "outputId": "7dbcbdc3-3198-488d-d65a-f1c399750e5c"
      },
      "outputs": [
        {
          "execution_count": 10,
          "output_type": "execute_result",
          "data": {
            "text/plain": "   id  Temparature  Humidity  Moisture  Soil Type  Crop Type  Nitrogen  \\\n0   0           37        70        36          1          8        36   \n1   1           27        69        65          4          4        30   \n2   2           29        63        32          4          4        24   \n3   3           35        62        54          4          0        39   \n4   4           35        58        43          3          6        37   \n\n   Potassium  Phosphorous  Fertilizer Name  \n0          4            5                4  \n1          6           18                4  \n2         12           16                2  \n3         12            4                0  \n4          2           16                5  ",
            "text/html": "<div>\n<style scoped>\n    .dataframe tbody tr th:only-of-type {\n        vertical-align: middle;\n    }\n\n    .dataframe tbody tr th {\n        vertical-align: top;\n    }\n\n    .dataframe thead th {\n        text-align: right;\n    }\n</style>\n<table border=\"1\" class=\"dataframe\">\n  <thead>\n    <tr style=\"text-align: right;\">\n      <th></th>\n      <th>id</th>\n      <th>Temparature</th>\n      <th>Humidity</th>\n      <th>Moisture</th>\n      <th>Soil Type</th>\n      <th>Crop Type</th>\n      <th>Nitrogen</th>\n      <th>Potassium</th>\n      <th>Phosphorous</th>\n      <th>Fertilizer Name</th>\n    </tr>\n  </thead>\n  <tbody>\n    <tr>\n      <th>0</th>\n      <td>0</td>\n      <td>37</td>\n      <td>70</td>\n      <td>36</td>\n      <td>1</td>\n      <td>8</td>\n      <td>36</td>\n      <td>4</td>\n      <td>5</td>\n      <td>4</td>\n    </tr>\n    <tr>\n      <th>1</th>\n      <td>1</td>\n      <td>27</td>\n      <td>69</td>\n      <td>65</td>\n      <td>4</td>\n      <td>4</td>\n      <td>30</td>\n      <td>6</td>\n      <td>18</td>\n      <td>4</td>\n    </tr>\n    <tr>\n      <th>2</th>\n      <td>2</td>\n      <td>29</td>\n      <td>63</td>\n      <td>32</td>\n      <td>4</td>\n      <td>4</td>\n      <td>24</td>\n      <td>12</td>\n      <td>16</td>\n      <td>2</td>\n    </tr>\n    <tr>\n      <th>3</th>\n      <td>3</td>\n      <td>35</td>\n      <td>62</td>\n      <td>54</td>\n      <td>4</td>\n      <td>0</td>\n      <td>39</td>\n      <td>12</td>\n      <td>4</td>\n      <td>0</td>\n    </tr>\n    <tr>\n      <th>4</th>\n      <td>4</td>\n      <td>35</td>\n      <td>58</td>\n      <td>43</td>\n      <td>3</td>\n      <td>6</td>\n      <td>37</td>\n      <td>2</td>\n      <td>16</td>\n      <td>5</td>\n    </tr>\n  </tbody>\n</table>\n</div>"
          },
          "metadata": {}
        }
      ],
      "execution_count": null
    },
    {
      "cell_type": "code",
      "source": [
        "df_train , df_test = train_test_split(train_data, test_size=0.3, random_state=56)"
      ],
      "metadata": {
        "trusted": true,
        "execution": {
          "iopub.status.busy": "2025-06-25T05:34:27.608247Z",
          "iopub.execute_input": "2025-06-25T05:34:27.60852Z",
          "iopub.status.idle": "2025-06-25T05:34:27.773801Z",
          "shell.execute_reply.started": "2025-06-25T05:34:27.608501Z",
          "shell.execute_reply": "2025-06-25T05:34:27.772947Z"
        },
        "id": "oG3fuefM_5Np"
      },
      "outputs": [],
      "execution_count": null
    },
    {
      "cell_type": "code",
      "source": [
        "scaler = StandardScaler()\n",
        "df_train[num_cols] = scaler.fit_transform(df_train[num_cols])"
      ],
      "metadata": {
        "trusted": true,
        "execution": {
          "iopub.status.busy": "2025-06-25T05:34:27.774731Z",
          "iopub.execute_input": "2025-06-25T05:34:27.775017Z",
          "iopub.status.idle": "2025-06-25T05:34:27.916728Z",
          "shell.execute_reply.started": "2025-06-25T05:34:27.774992Z",
          "shell.execute_reply": "2025-06-25T05:34:27.915616Z"
        },
        "id": "bKdmIMm1_5Nq"
      },
      "outputs": [],
      "execution_count": null
    },
    {
      "cell_type": "code",
      "source": [
        "df_test[num_cols] = scaler.transform(df_test[num_cols])"
      ],
      "metadata": {
        "trusted": true,
        "execution": {
          "iopub.status.busy": "2025-06-25T05:34:27.91767Z",
          "iopub.execute_input": "2025-06-25T05:34:27.918001Z",
          "iopub.status.idle": "2025-06-25T05:34:27.945859Z",
          "shell.execute_reply.started": "2025-06-25T05:34:27.917975Z",
          "shell.execute_reply": "2025-06-25T05:34:27.944593Z"
        },
        "id": "StUmdm7D_5Nq"
      },
      "outputs": [],
      "execution_count": null
    },
    {
      "cell_type": "code",
      "source": [
        "df_train.drop(columns=['id'], axis=1, inplace=True)\n",
        "df_test.drop(columns=['id'], axis=1, inplace=True)"
      ],
      "metadata": {
        "trusted": true,
        "execution": {
          "iopub.status.busy": "2025-06-25T05:34:27.946827Z",
          "iopub.execute_input": "2025-06-25T05:34:27.94708Z",
          "iopub.status.idle": "2025-06-25T05:34:27.986814Z",
          "shell.execute_reply.started": "2025-06-25T05:34:27.947061Z",
          "shell.execute_reply": "2025-06-25T05:34:27.985999Z"
        },
        "id": "732oOAKV_5Nr"
      },
      "outputs": [],
      "execution_count": null
    },
    {
      "cell_type": "code",
      "source": [
        "df_train.head()"
      ],
      "metadata": {
        "trusted": true,
        "execution": {
          "iopub.status.busy": "2025-06-25T05:34:27.987639Z",
          "iopub.execute_input": "2025-06-25T05:34:27.987875Z",
          "iopub.status.idle": "2025-06-25T05:34:28.00132Z",
          "shell.execute_reply.started": "2025-06-25T05:34:27.987858Z",
          "shell.execute_reply": "2025-06-25T05:34:28.000378Z"
        },
        "id": "ebbbe7wx_5Nr",
        "outputId": "df3eaaeb-f6b0-45a1-fac2-44446522cb84"
      },
      "outputs": [
        {
          "execution_count": 15,
          "output_type": "execute_result",
          "data": {
            "text/plain": "        Temparature  Humidity  Moisture  Soil Type  Crop Type  Nitrogen  \\\n648509     1.365804 -1.658566 -0.099994          3          1 -0.541614   \n254061    -1.119065  1.349849  0.239128          0          1 -1.165496   \n346323     0.123369  1.650690 -1.286921          2          0  0.884401   \n12731     -0.870578  0.597745 -0.947799          0          3  1.597408   \n538147     0.123369 -0.304779  1.256494          4         10  1.686534   \n\n        Potassium  Phosphorous  Fertilizer Name  \n648509   0.957319     0.157040                3  \n254061  -0.604493    -0.896299                5  \n346323   0.957319    -0.329116                4  \n12731    1.651458    -0.167064                0  \n538147  -0.951562    -0.815273                4  ",
            "text/html": "<div>\n<style scoped>\n    .dataframe tbody tr th:only-of-type {\n        vertical-align: middle;\n    }\n\n    .dataframe tbody tr th {\n        vertical-align: top;\n    }\n\n    .dataframe thead th {\n        text-align: right;\n    }\n</style>\n<table border=\"1\" class=\"dataframe\">\n  <thead>\n    <tr style=\"text-align: right;\">\n      <th></th>\n      <th>Temparature</th>\n      <th>Humidity</th>\n      <th>Moisture</th>\n      <th>Soil Type</th>\n      <th>Crop Type</th>\n      <th>Nitrogen</th>\n      <th>Potassium</th>\n      <th>Phosphorous</th>\n      <th>Fertilizer Name</th>\n    </tr>\n  </thead>\n  <tbody>\n    <tr>\n      <th>648509</th>\n      <td>1.365804</td>\n      <td>-1.658566</td>\n      <td>-0.099994</td>\n      <td>3</td>\n      <td>1</td>\n      <td>-0.541614</td>\n      <td>0.957319</td>\n      <td>0.157040</td>\n      <td>3</td>\n    </tr>\n    <tr>\n      <th>254061</th>\n      <td>-1.119065</td>\n      <td>1.349849</td>\n      <td>0.239128</td>\n      <td>0</td>\n      <td>1</td>\n      <td>-1.165496</td>\n      <td>-0.604493</td>\n      <td>-0.896299</td>\n      <td>5</td>\n    </tr>\n    <tr>\n      <th>346323</th>\n      <td>0.123369</td>\n      <td>1.650690</td>\n      <td>-1.286921</td>\n      <td>2</td>\n      <td>0</td>\n      <td>0.884401</td>\n      <td>0.957319</td>\n      <td>-0.329116</td>\n      <td>4</td>\n    </tr>\n    <tr>\n      <th>12731</th>\n      <td>-0.870578</td>\n      <td>0.597745</td>\n      <td>-0.947799</td>\n      <td>0</td>\n      <td>3</td>\n      <td>1.597408</td>\n      <td>1.651458</td>\n      <td>-0.167064</td>\n      <td>0</td>\n    </tr>\n    <tr>\n      <th>538147</th>\n      <td>0.123369</td>\n      <td>-0.304779</td>\n      <td>1.256494</td>\n      <td>4</td>\n      <td>10</td>\n      <td>1.686534</td>\n      <td>-0.951562</td>\n      <td>-0.815273</td>\n      <td>4</td>\n    </tr>\n  </tbody>\n</table>\n</div>"
          },
          "metadata": {}
        }
      ],
      "execution_count": null
    },
    {
      "cell_type": "code",
      "source": [
        "y_train = df_train.pop('Fertilizer Name')\n",
        "X_train = df_train\n",
        "\n",
        "y_test = df_test.pop('Fertilizer Name')\n",
        "X_test = df_test"
      ],
      "metadata": {
        "trusted": true,
        "execution": {
          "iopub.status.busy": "2025-06-25T05:34:28.002462Z",
          "iopub.execute_input": "2025-06-25T05:34:28.002838Z",
          "iopub.status.idle": "2025-06-25T05:34:28.02018Z",
          "shell.execute_reply.started": "2025-06-25T05:34:28.00281Z",
          "shell.execute_reply": "2025-06-25T05:34:28.019055Z"
        },
        "id": "8JWd35SH_5Nr"
      },
      "outputs": [],
      "execution_count": null
    },
    {
      "cell_type": "code",
      "source": [
        "from catboost import CatBoostClassifier\n",
        "from sklearn.metrics import accuracy_score\n",
        "\n",
        "model = CatBoostClassifier(\n",
        "    iterations = 100,\n",
        "    learning_rate = 0.01,\n",
        "    depth = 6,\n",
        "    verbose=0\n",
        ")\n",
        "\n",
        "# Train the model\n",
        "model.fit(X_train, y_train)\n",
        "\n",
        "# Make predictions\n",
        "y_pred = model.predict(X_test)\n",
        "\n",
        "# Evaluate accuracy\n",
        "print(f'Accuracy Score:{accuracy_score(y_test, y_pred)}')"
      ],
      "metadata": {
        "trusted": true,
        "execution": {
          "iopub.status.busy": "2025-06-25T05:34:28.021322Z",
          "iopub.execute_input": "2025-06-25T05:34:28.021606Z",
          "iopub.status.idle": "2025-06-25T05:34:51.542571Z",
          "shell.execute_reply.started": "2025-06-25T05:34:28.021581Z",
          "shell.execute_reply": "2025-06-25T05:34:51.541499Z"
        },
        "id": "ezyprutW_5Ns",
        "outputId": "d5e96d33-8df8-45ee-9ca4-b09e838c2e26"
      },
      "outputs": [
        {
          "name": "stdout",
          "text": "Accuracy Score:0.16525777777777778\n",
          "output_type": "stream"
        }
      ],
      "execution_count": null
    },
    {
      "cell_type": "code",
      "source": [],
      "metadata": {
        "trusted": true,
        "id": "JfPF_mWy_5Ns"
      },
      "outputs": [],
      "execution_count": null
    }
  ]
}